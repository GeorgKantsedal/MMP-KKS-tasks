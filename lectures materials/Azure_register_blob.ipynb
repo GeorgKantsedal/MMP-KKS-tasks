{
 "cells": [
  {
   "cell_type": "code",
   "execution_count": null,
   "metadata": {},
   "outputs": [],
   "source": []
  },
  {
   "cell_type": "code",
   "execution_count": 6,
   "metadata": {},
   "outputs": [],
   "source": [
    "from azureml.core import Workspace, Datastore, Dataset, Run, Experiment\n",
    "from azureml.data.datapath import DataPath\n",
    "import datetime as dt\n",
    "import pandas as pd\n",
    "from pathlib import Path\n",
    "from pulp import *\n",
    "import numpy as np\n",
    "import math\n",
    "\n",
    "testing = True\n",
    "sql_datastore_name = 'cygh_mihjrs'\n",
    "\n",
    "ws = Workspace.from_config()\n",
    "db_sql = Datastore.get(ws, sql_datastore_name)"
   ]
  },
  {
   "cell_type": "code",
   "execution_count": 4,
   "metadata": {},
   "outputs": [],
   "source": [
    "blob_datastore_name='opt_d_gk' # Name of the datastore to workspace\n",
    "container_name=os.getenv(\"BLOB_CONTAINER\", \"opt-d-gk\") # Name of Azure blob container\n",
    "account_name=os.getenv(\"BLOB_ACCOUNTNAME\", \"mihwemihcyghdm3574104548\") # Storage account name\n",
    "account_key=os.getenv(\"BLOB_ACCOUNT_KEY\", \"whq/fqW9UbUUhpfr1q6UzAfbu3LK1wXPk3wt.....\") # Storage account access key\n",
    "\n",
    " \n",
    "\n",
    "blob_datastore = Datastore.register_azure_blob_container(workspace=ws, \n",
    "                                                         datastore_name=blob_datastore_name, \n",
    "                                                         container_name=container_name, \n",
    "                                                         account_name=account_name,\n",
    "                                                         account_key=account_key)"
   ]
  },
  {
   "cell_type": "code",
   "execution_count": 7,
   "metadata": {},
   "outputs": [
    {
     "name": "stdout",
     "output_type": "stream",
     "text": [
      "{\n",
      "  \"name\": \"opt_d_gk\",\n",
      "  \"container_name\": \"opt-d-gk\",\n",
      "  \"account_name\": \"mihwemihcyghdm3574104548\",\n",
      "  \"protocol\": \"https\",\n",
      "  \"endpoint\": \"core.windows.net\"\n",
      "}\n"
     ]
    }
   ],
   "source": []
  },
  {
   "cell_type": "code",
   "execution_count": null,
   "metadata": {},
   "outputs": [],
   "source": [
    "blob_datastore_name = 'opt_d_gk'\n",
    "blob_stor = Datastore.get(ws, blob_datastore_name)\n",
    "print(blob_stor)"
   ]
  }
 ],
 "metadata": {
  "kernelspec": {
   "display_name": "pulp2",
   "language": "python",
   "name": "pulp2"
  },
  "language_info": {
   "codemirror_mode": {
    "name": "ipython",
    "version": 3
   },
   "file_extension": ".py",
   "mimetype": "text/x-python",
   "name": "python",
   "nbconvert_exporter": "python",
   "pygments_lexer": "ipython3",
   "version": "3.6.9"
  }
 },
 "nbformat": 4,
 "nbformat_minor": 4
}
