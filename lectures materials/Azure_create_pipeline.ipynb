{
 "cells": [
  {
   "cell_type": "code",
   "execution_count": null,
   "metadata": {},
   "outputs": [],
   "source": []
  },
  {
   "cell_type": "code",
   "execution_count": null,
   "metadata": {},
   "outputs": [],
   "source": []
  },
  {
   "cell_type": "code",
   "execution_count": null,
   "metadata": {},
   "outputs": [],
   "source": []
  },
  {
   "cell_type": "code",
   "execution_count": null,
   "metadata": {},
   "outputs": [],
   "source": []
  },
  {
   "cell_type": "code",
   "execution_count": null,
   "metadata": {},
   "outputs": [],
   "source": []
  },
  {
   "cell_type": "code",
   "execution_count": 1,
   "metadata": {},
   "outputs": [],
   "source": [
    "import azureml.core\n",
    "from azureml.core import Workspace, Datastore\n",
    "\n",
    "from azureml.core.compute import ComputeTarget, AmlCompute\n",
    "\n",
    "from azureml.core.runconfig import RunConfiguration\n",
    "from azureml.core.conda_dependencies import CondaDependencies\n",
    "from azureml.core import Environment \n",
    "\n",
    "from azureml.pipeline.steps import PythonScriptStep\n",
    "\n",
    "from azureml.pipeline.core.graph import PipelineParameter\n",
    "\n",
    "from azureml.pipeline.core import Pipeline, PipelineEndpoint\n",
    "from azureml.core import Experiment\n",
    "\n",
    "import datetime as dt\n"
   ]
  },
  {
   "cell_type": "code",
   "execution_count": 2,
   "metadata": {},
   "outputs": [
    {
     "name": "stdout",
     "output_type": "stream",
     "text": [
      "Found compute target: logistic-compute\n"
     ]
    }
   ],
   "source": [
    "ws = Workspace.from_config()\n",
    "\n",
    "compute_name = \"logistic-compute\"\n",
    "vm_size = \"Standard_DS12_v2\"\n",
    "if compute_name in ws.compute_targets:\n",
    "    compute_target = ws.compute_targets[compute_name]\n",
    "    if compute_target and type(compute_target) is AmlCompute:\n",
    "        print('Found compute target: ' + compute_name)\n",
    "else: \n",
    "    print('Creating a new compute target...')\n",
    "    provisioning_config = AmlCompute.provisioning_configuration(vm_size=vm_size,\n",
    "                                                                idle_seconds_before_scaledown=3600*2,\n",
    "                                                                min_nodes=0,\n",
    "                                                                max_nodes=4)\n",
    "    # create the compute target\n",
    "    compute_target = ComputeTarget.create(\n",
    "        ws, compute_name, provisioning_config)\n",
    "\n",
    "    # Can poll for a minimum number of nodes and for a specific timeout.\n",
    "    # If no min node count is provided it will use the scale settings for the cluster\n",
    "    compute_target.wait_for_completion(\n",
    "        show_output=True, min_node_count=None, timeout_in_minutes=20)\n",
    "\n",
    "    # For a more detailed view of current cluster status, use the 'status' property\n",
    "    print(compute_target.status.serialize())"
   ]
  },
  {
   "cell_type": "code",
   "execution_count": 3,
   "metadata": {},
   "outputs": [],
   "source": [
    "aml_run_config = RunConfiguration()\n",
    "# `compute_target` as defined in \"Azure Machine Learning compute\" section above\n",
    "aml_run_config.target = compute_target\n",
    "    \n",
    "\n",
    "aml_run_config.environment.python.conda_dependencies = CondaDependencies.create(\n",
    "        pip_packages=['pandas','scikit-learn', 'sqlalchemy', 'openpyxl', 'pulp'],\n",
    "        conda_packages=['pyodbc'],\n",
    "        pin_sdk_version=False\n",
    "    )"
   ]
  },
  {
   "cell_type": "code",
   "execution_count": 4,
   "metadata": {},
   "outputs": [],
   "source": [
    "# Creating pipeline in userfriendly in-face\n",
    "\n",
    "entry_point = \"Model_v0.1.py\"\n",
    "\n",
    "year = PipelineParameter(\n",
    "  name=\"year\",\n",
    "  default_value=0,)\n",
    "\n",
    "month =  PipelineParameter(\n",
    "    name=\"month\",\n",
    "    default_value=0)\n",
    "\n",
    "version = PipelineParameter(\n",
    "    name=\"version\",\n",
    "    default_value=0)\n",
    "\n",
    "startContractLsd = PipelineParameter(\n",
    "    name=\"startContractLsd\",\n",
    "    default_value='2020-10-01')\n",
    "\n",
    "endContractLsd = PipelineParameter(\n",
    "    name=\"endContractLsd\",\n",
    "    default_value='2020-12-31')\n",
    "\n",
    "planningDate = PipelineParameter(\n",
    "    name=\"planningDate\",\n",
    "    default_value='2020-10-01')\n",
    "\n",
    "runNumber = PipelineParameter(\n",
    "    name=\"runNumber\",\n",
    "    default_value=0)\n",
    "\n",
    "user = PipelineParameter(\n",
    "  name=\"user\",\n",
    "  default_value='Andriy')\n",
    "\n",
    "\n",
    "step = PythonScriptStep(\n",
    "    script_name=entry_point,\n",
    "    arguments=[user, year, month, version, startContractLsd, endContractLsd,\n",
    "                      planningDate, runNumber],\n",
    "    compute_target=compute_target,\n",
    "    runconfig=aml_run_config,\n",
    "    allow_reuse=False\n",
    ")\n",
    "\n",
    "pipeline1 = Pipeline(workspace=ws, steps=[[step]])"
   ]
  },
  {
   "cell_type": "code",
   "execution_count": 5,
   "metadata": {},
   "outputs": [
    {
     "name": "stdout",
     "output_type": "stream",
     "text": [
      "Created step Model_v0.1.py [8ec3a91d][e3323eb6-671d-461f-931e-4830b2fd75f5], (This step will run and generate new outputs)\n"
     ]
    }
   ],
   "source": [
    "published_pipeline = pipeline1.publish(name='optimization_version_1.33', description='Run optization model', version='1.33')"
   ]
  },
  {
   "cell_type": "code",
   "execution_count": 6,
   "metadata": {},
   "outputs": [],
   "source": [
    "# # run only ones\n",
    "# published_endpoint = PipelineEndpoint.publish(workspace=ws,\n",
    "#      name=\"DP4_versioned\",\n",
    "#      pipeline=pipeline1,                                       \n",
    "#      description=\"DP4 Azovstal model versioned pipeline\")\n",
    "# # published_pipeline"
   ]
  },
  {
   "cell_type": "code",
   "execution_count": 7,
   "metadata": {},
   "outputs": [],
   "source": [
    "published_endpoint1 = PipelineEndpoint.get(workspace=ws, name='Optimization')\n",
    "published_endpoint1.add_default(published_pipeline)"
   ]
  },
  {
   "cell_type": "code",
   "execution_count": null,
   "metadata": {},
   "outputs": [],
   "source": []
  }
 ],
 "metadata": {
  "kernelspec": {
   "display_name": "pulp2",
   "language": "python",
   "name": "pulp2"
  },
  "language_info": {
   "codemirror_mode": {
    "name": "ipython",
    "version": 3
   },
   "file_extension": ".py",
   "mimetype": "text/x-python",
   "name": "python",
   "nbconvert_exporter": "python",
   "pygments_lexer": "ipython3",
   "version": "3.6.9"
  }
 },
 "nbformat": 4,
 "nbformat_minor": 4
}
